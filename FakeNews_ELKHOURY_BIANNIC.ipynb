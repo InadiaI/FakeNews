{
  "nbformat": 4,
  "nbformat_minor": 0,
  "metadata": {
    "colab": {
      "name": "FakeNews-ELKHOURY-BIANNIC.ipynb",
      "provenance": [],
      "authorship_tag": "ABX9TyMIIgn14QK8cumPW1+3P+oD",
      "include_colab_link": true
    },
    "kernelspec": {
      "name": "python3",
      "display_name": "Python 3"
    }
  },
  "cells": [
    {
      "cell_type": "markdown",
      "metadata": {
        "id": "view-in-github",
        "colab_type": "text"
      },
      "source": [
        "<a href=\"https://colab.research.google.com/github/InadiaI/FakeNews/blob/main/FakeNews_ELKHOURY_BIANNIC.ipynb\" target=\"_parent\"><img src=\"https://colab.research.google.com/assets/colab-badge.svg\" alt=\"Open In Colab\"/></a>"
      ]
    },
    {
      "cell_type": "markdown",
      "metadata": {
        "id": "sG6guxem5-8C"
      },
      "source": [
        "**Subject :** Create an algorithm for classifying news are \"fake\" or \"real\".\n",
        "\n",
        "\n",
        "\n",
        "\n",
        "\n",
        "\n",
        "_______________________________________________________\n",
        "\n",
        "[1] Datasets from kaggle.com\n",
        "\n",
        "https://www.kaggle.com/clmentbisaillon/fake-and-real-news-dataset\n",
        "https://www.kaggle.com/c/fake-news/data\n",
        "https://www.kaggle.com/hassanamin/textdb3\n",
        "https://www.kaggle.com/snapcrack/all-the-news (only \"real\")\n",
        "https://www.kaggle.com/mrisdal/fake-news (only fake)\n",
        "\n"
      ]
    },
    {
      "cell_type": "markdown",
      "metadata": {
        "id": "87t38f2k61Nd"
      },
      "source": [
        "1- You need datasets containing news with a label \"fake\" or \"real\". You can use datasets from kaggle.com [1] or any other dataset you can find (github, google colab, ...).\n"
      ]
    },
    {
      "cell_type": "code",
      "metadata": {
        "id": "tZAuIa487TId"
      },
      "source": [
        ""
      ],
      "execution_count": null,
      "outputs": []
    },
    {
      "cell_type": "markdown",
      "metadata": {
        "id": "YyTLbmjF7M12"
      },
      "source": [
        "Analysis of the dataset. What kind of data is in your dataset ?\n",
        "Then you will process the data. Try to represent the data with Bag of Word\n",
        "Apply a standard (not deep learning) machine learning algorithm.\n",
        "Compute and analyze the performance."
      ]
    },
    {
      "cell_type": "code",
      "metadata": {
        "id": "8Vi4r5ir7UH-"
      },
      "source": [
        ""
      ],
      "execution_count": null,
      "outputs": []
    },
    {
      "cell_type": "markdown",
      "metadata": {
        "id": "FPpIeQT17Yr2"
      },
      "source": [
        "try to apply the same algorithm to a different dataset,\n",
        "use more complex representation of the data (Word2Vect, or anything else),\n",
        "try to improve or change the ML algorithm (for exemple try to use deepLearning),\n",
        "In each case, compare the performances obtained."
      ]
    },
    {
      "cell_type": "code",
      "metadata": {
        "id": "vpJPOzNZ7g8u"
      },
      "source": [
        ""
      ],
      "execution_count": null,
      "outputs": []
    },
    {
      "cell_type": "markdown",
      "metadata": {
        "id": "A7Z-L9ev7iNu"
      },
      "source": [
        "\n",
        "It is not expected that you try all of this, you are free to chose the representation of data that you want and the ML that you want. But be sure to understand what you are doing as you will need to present it.\n"
      ]
    }
  ]
}