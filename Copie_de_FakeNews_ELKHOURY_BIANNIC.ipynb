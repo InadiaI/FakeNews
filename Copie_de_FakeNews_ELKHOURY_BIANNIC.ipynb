{
  "nbformat": 4,
  "nbformat_minor": 0,
  "metadata": {
    "colab": {
      "name": "Copie de Copie de FakeNews-ELKHOURY-BIANNIC.ipynb",
      "provenance": [],
      "collapsed_sections": [],
      "include_colab_link": true
    },
    "kernelspec": {
      "name": "python3",
      "display_name": "Python 3"
    }
  },
  "cells": [
    {
      "cell_type": "markdown",
      "metadata": {
        "id": "view-in-github",
        "colab_type": "text"
      },
      "source": [
        "<a href=\"https://colab.research.google.com/github/InadiaI/FakeNews/blob/main/Copie_de_FakeNews_ELKHOURY_BIANNIC.ipynb\" target=\"_parent\"><img src=\"https://colab.research.google.com/assets/colab-badge.svg\" alt=\"Open In Colab\"/></a>"
      ]
    },
    {
      "cell_type": "markdown",
      "metadata": {
        "id": "sG6guxem5-8C"
      },
      "source": [
        "**Subject :** Create an algorithm for classifying news are \"fake\" or \"real\".\n",
        "\n",
        "\n",
        "\n",
        "\n",
        "\n",
        "\n",
        "_______________________________________________________\n",
        "\n",
        "[1] Datasets from kaggle.com\n",
        "\n",
        "https://www.kaggle.com/clmentbisaillon/fake-and-real-news-dataset\n",
        "\n",
        "https://www.kaggle.com/c/fake-news/data \n",
        "\n",
        "https://www.kaggle.com/hassanamin/textdb3\n",
        "\n",
        "https://www.kaggle.com/snapcrack/all-the-news (only \"real\")\n",
        "\n",
        "https://www.kaggle.com/mrisdal/fake-news (only fake)\n",
        "\n",
        "\n"
      ]
    },
    {
      "cell_type": "markdown",
      "metadata": {
        "id": "87t38f2k61Nd"
      },
      "source": [
        "1- You need datasets containing news with a label \"fake\" or \"real\". You can use datasets from kaggle.com [1] or any other dataset you can find (github, google colab, ...).\n"
      ]
    },
    {
      "cell_type": "code",
      "metadata": {
        "id": "tZAuIa487TId",
        "colab": {
          "base_uri": "https://localhost:8080/"
        },
        "outputId": "fa831b49-b621-4696-958e-b3c38c0b9bb2"
      },
      "source": [
        "#We start by importing all libraries\n",
        "import keras\n",
        "!pip install kaggle\n",
        "import json\n",
        "import zipfile\n",
        "import os\n",
        "import pandas as pd\n",
        "import nltk\n",
        "import numpy as np\n",
        "from sklearn.model_selection import train_test_split\n",
        "from nltk.tokenize import word_tokenize\n",
        "from nltk.stem.porter import PorterStemmer\n",
        "nltk.download('punkt')"
      ],
      "execution_count": 42,
      "outputs": [
        {
          "output_type": "stream",
          "text": [
            "Requirement already satisfied: kaggle in /usr/local/lib/python3.6/dist-packages (1.5.9)\n",
            "Requirement already satisfied: python-slugify in /usr/local/lib/python3.6/dist-packages (from kaggle) (4.0.1)\n",
            "Requirement already satisfied: slugify in /usr/local/lib/python3.6/dist-packages (from kaggle) (0.0.1)\n",
            "Requirement already satisfied: urllib3 in /usr/local/lib/python3.6/dist-packages (from kaggle) (1.24.3)\n",
            "Requirement already satisfied: six>=1.10 in /usr/local/lib/python3.6/dist-packages (from kaggle) (1.15.0)\n",
            "Requirement already satisfied: certifi in /usr/local/lib/python3.6/dist-packages (from kaggle) (2020.6.20)\n",
            "Requirement already satisfied: tqdm in /usr/local/lib/python3.6/dist-packages (from kaggle) (4.41.1)\n",
            "Requirement already satisfied: python-dateutil in /usr/local/lib/python3.6/dist-packages (from kaggle) (2.8.1)\n",
            "Requirement already satisfied: requests in /usr/local/lib/python3.6/dist-packages (from kaggle) (2.23.0)\n",
            "Requirement already satisfied: text-unidecode>=1.3 in /usr/local/lib/python3.6/dist-packages (from python-slugify->kaggle) (1.3)\n",
            "Requirement already satisfied: idna<3,>=2.5 in /usr/local/lib/python3.6/dist-packages (from requests->kaggle) (2.10)\n",
            "Requirement already satisfied: chardet<4,>=3.0.2 in /usr/local/lib/python3.6/dist-packages (from requests->kaggle) (3.0.4)\n",
            "[nltk_data] Downloading package punkt to /root/nltk_data...\n",
            "[nltk_data]   Package punkt is already up-to-date!\n"
          ],
          "name": "stdout"
        },
        {
          "output_type": "execute_result",
          "data": {
            "text/plain": [
              "True"
            ]
          },
          "metadata": {
            "tags": []
          },
          "execution_count": 42
        }
      ]
    },
    {
      "cell_type": "markdown",
      "metadata": {
        "id": "_Ngpc59XCF1d"
      },
      "source": [
        "On importe la dataset de kaggle :"
      ]
    },
    {
      "cell_type": "code",
      "metadata": {
        "id": "xqGDiTvrCWZT",
        "colab": {
          "base_uri": "https://localhost:8080/"
        },
        "outputId": "2ccfbb04-2ac8-4af6-ce1c-c41337774079"
      },
      "source": [
        "#kaggle token\n",
        "os.environ['KAGGLE_USERNAME'] = \"nadiaelkhoury\"\n",
        "os.environ['KAGGLE_KEY'] = \"0dda7b45f140e015af3441566c4be78d\"\n",
        "\n",
        "#mkdir for a clean working environment\n",
        "if not os.path.exists(\"/fakeNews/\"):\n",
        "    os.makedirs(\"/fakeNews\")\n",
        "os.chdir('/fakeNews')\n",
        "\n",
        "#dl\n",
        "!kaggle datasets download -d clmentbisaillon/fake-and-real-news-dataset\n",
        "\n",
        "zip = zipfile.ZipFile(\"fake-and-real-news-dataset.zip\",'r')\n",
        "zip.extractall()\n",
        "\n",
        "for file in os.listdir():\n",
        "  print(file)\n",
        "\n"
      ],
      "execution_count": 43,
      "outputs": [
        {
          "output_type": "stream",
          "text": [
            "fake-and-real-news-dataset.zip: Skipping, found more recently modified local copy (use --force to force download)\n",
            "True.csv\n",
            "Fake.csv\n",
            "fake-and-real-news-dataset.zip\n"
          ],
          "name": "stdout"
        }
      ]
    },
    {
      "cell_type": "markdown",
      "metadata": {
        "id": "D1ltR6CuCQ_u"
      },
      "source": [
        "On importe les différentes datasets True et Fake, on ajoute une colonne de labels pour pouvoir différencier les fake news des vrais ( 1 : true, à: fake) On va ensuite split le texte pour séparer chaque élément puis filtrer la ponctuation pour ne garder les mots.Enfin on concatène les deux bases de données en une seule qu'on appellera dataset."
      ]
    },
    {
      "cell_type": "code",
      "metadata": {
        "id": "htcwQo66NVI8",
        "colab": {
          "base_uri": "https://localhost:8080/",
          "height": 404
        },
        "outputId": "4772d8c8-a91c-4762-facb-531cc73a764d"
      },
      "source": [
        "#import puis traitement et filtrage des données\n",
        "FILENAMES = {'True.csv':1, 'Fake.csv':0}\n",
        "DATA_MAX = 1000 #max data number taken in each dataframes\n",
        "\n",
        "dfs = []\n",
        "for filename, label in FILENAMES.items():\n",
        "  df = pd.read_csv(filename)\n",
        "  df[\"y\"] = label\n",
        "  dfs.append(df[:DATA_MAX])\n",
        "\n",
        "\n",
        "#concatenation\n",
        "dataset = pd.concat(dfs, ignore_index=True)\n",
        "dataset"
      ],
      "execution_count": 52,
      "outputs": [
        {
          "output_type": "execute_result",
          "data": {
            "text/html": [
              "<div>\n",
              "<style scoped>\n",
              "    .dataframe tbody tr th:only-of-type {\n",
              "        vertical-align: middle;\n",
              "    }\n",
              "\n",
              "    .dataframe tbody tr th {\n",
              "        vertical-align: top;\n",
              "    }\n",
              "\n",
              "    .dataframe thead th {\n",
              "        text-align: right;\n",
              "    }\n",
              "</style>\n",
              "<table border=\"1\" class=\"dataframe\">\n",
              "  <thead>\n",
              "    <tr style=\"text-align: right;\">\n",
              "      <th></th>\n",
              "      <th>title</th>\n",
              "      <th>text</th>\n",
              "      <th>subject</th>\n",
              "      <th>date</th>\n",
              "      <th>y</th>\n",
              "    </tr>\n",
              "  </thead>\n",
              "  <tbody>\n",
              "    <tr>\n",
              "      <th>0</th>\n",
              "      <td>As U.S. budget fight looms, Republicans flip t...</td>\n",
              "      <td>WASHINGTON (Reuters) - The head of a conservat...</td>\n",
              "      <td>politicsNews</td>\n",
              "      <td>December 31, 2017</td>\n",
              "      <td>1</td>\n",
              "    </tr>\n",
              "    <tr>\n",
              "      <th>1</th>\n",
              "      <td>U.S. military to accept transgender recruits o...</td>\n",
              "      <td>WASHINGTON (Reuters) - Transgender people will...</td>\n",
              "      <td>politicsNews</td>\n",
              "      <td>December 29, 2017</td>\n",
              "      <td>1</td>\n",
              "    </tr>\n",
              "    <tr>\n",
              "      <th>2</th>\n",
              "      <td>Senior U.S. Republican senator: 'Let Mr. Muell...</td>\n",
              "      <td>WASHINGTON (Reuters) - The special counsel inv...</td>\n",
              "      <td>politicsNews</td>\n",
              "      <td>December 31, 2017</td>\n",
              "      <td>1</td>\n",
              "    </tr>\n",
              "    <tr>\n",
              "      <th>3</th>\n",
              "      <td>FBI Russia probe helped by Australian diplomat...</td>\n",
              "      <td>WASHINGTON (Reuters) - Trump campaign adviser ...</td>\n",
              "      <td>politicsNews</td>\n",
              "      <td>December 30, 2017</td>\n",
              "      <td>1</td>\n",
              "    </tr>\n",
              "    <tr>\n",
              "      <th>4</th>\n",
              "      <td>Trump wants Postal Service to charge 'much mor...</td>\n",
              "      <td>SEATTLE/WASHINGTON (Reuters) - President Donal...</td>\n",
              "      <td>politicsNews</td>\n",
              "      <td>December 29, 2017</td>\n",
              "      <td>1</td>\n",
              "    </tr>\n",
              "    <tr>\n",
              "      <th>...</th>\n",
              "      <td>...</td>\n",
              "      <td>...</td>\n",
              "      <td>...</td>\n",
              "      <td>...</td>\n",
              "      <td>...</td>\n",
              "    </tr>\n",
              "    <tr>\n",
              "      <th>1995</th>\n",
              "      <td>GOP Rep. Wants A $30k A Year Housing Allowanc...</td>\n",
              "      <td>Not long ago, Rep. Jason Chaffetz (R-Utah), sa...</td>\n",
              "      <td>News</td>\n",
              "      <td>June 28, 2017</td>\n",
              "      <td>0</td>\n",
              "    </tr>\n",
              "    <tr>\n",
              "      <th>1996</th>\n",
              "      <td>Brace Yourself For 74 Percent Higher Health C...</td>\n",
              "      <td>According to a new report, health insurance pr...</td>\n",
              "      <td>News</td>\n",
              "      <td>June 27, 2017</td>\n",
              "      <td>0</td>\n",
              "    </tr>\n",
              "    <tr>\n",
              "      <th>1997</th>\n",
              "      <td>Grandma Will Have To Pay More Than $20k A Yea...</td>\n",
              "      <td>The Congressional Budget Office released their...</td>\n",
              "      <td>News</td>\n",
              "      <td>June 27, 2017</td>\n",
              "      <td>0</td>\n",
              "    </tr>\n",
              "    <tr>\n",
              "      <th>1998</th>\n",
              "      <td>The Absolutely Cringeworthy Moment Trump Trie...</td>\n",
              "      <td>Donald Trump was in a room full of Irish repor...</td>\n",
              "      <td>News</td>\n",
              "      <td>June 27, 2017</td>\n",
              "      <td>0</td>\n",
              "    </tr>\n",
              "    <tr>\n",
              "      <th>1999</th>\n",
              "      <td>A Fed Up Reporter Just Stood Up To Sarah Huck...</td>\n",
              "      <td>Donald Trump s war on the free press just ente...</td>\n",
              "      <td>News</td>\n",
              "      <td>June 27, 2017</td>\n",
              "      <td>0</td>\n",
              "    </tr>\n",
              "  </tbody>\n",
              "</table>\n",
              "<p>2000 rows × 5 columns</p>\n",
              "</div>"
            ],
            "text/plain": [
              "                                                  title  ...  y\n",
              "0     As U.S. budget fight looms, Republicans flip t...  ...  1\n",
              "1     U.S. military to accept transgender recruits o...  ...  1\n",
              "2     Senior U.S. Republican senator: 'Let Mr. Muell...  ...  1\n",
              "3     FBI Russia probe helped by Australian diplomat...  ...  1\n",
              "4     Trump wants Postal Service to charge 'much mor...  ...  1\n",
              "...                                                 ...  ... ..\n",
              "1995   GOP Rep. Wants A $30k A Year Housing Allowanc...  ...  0\n",
              "1996   Brace Yourself For 74 Percent Higher Health C...  ...  0\n",
              "1997   Grandma Will Have To Pay More Than $20k A Yea...  ...  0\n",
              "1998   The Absolutely Cringeworthy Moment Trump Trie...  ...  0\n",
              "1999   A Fed Up Reporter Just Stood Up To Sarah Huck...  ...  0\n",
              "\n",
              "[2000 rows x 5 columns]"
            ]
          },
          "metadata": {
            "tags": []
          },
          "execution_count": 52
        }
      ]
    },
    {
      "cell_type": "markdown",
      "metadata": {
        "id": "jlwbrHJbBta1"
      },
      "source": [
        "formating text:\n",
        "* tokenizing\n",
        "* only alpha\n",
        "* lowercase"
      ]
    },
    {
      "cell_type": "code",
      "metadata": {
        "colab": {
          "base_uri": "https://localhost:8080/",
          "height": 404
        },
        "id": "fDLzjE3Q0_M0",
        "outputId": "e224b3c4-0c59-422d-f300-93a016b28060"
      },
      "source": [
        "def my_tokenizer_func(string):\n",
        "  words = np.asarray(word_tokenize(string))\n",
        "  return np.core.defchararray.lower(words[np.where(np.core.defchararray.isalpha(words))])\n",
        "\n",
        "dataset.text = dataset.text.apply(my_tokenizer_func)\n",
        "dataset"
      ],
      "execution_count": 53,
      "outputs": [
        {
          "output_type": "execute_result",
          "data": {
            "text/html": [
              "<div>\n",
              "<style scoped>\n",
              "    .dataframe tbody tr th:only-of-type {\n",
              "        vertical-align: middle;\n",
              "    }\n",
              "\n",
              "    .dataframe tbody tr th {\n",
              "        vertical-align: top;\n",
              "    }\n",
              "\n",
              "    .dataframe thead th {\n",
              "        text-align: right;\n",
              "    }\n",
              "</style>\n",
              "<table border=\"1\" class=\"dataframe\">\n",
              "  <thead>\n",
              "    <tr style=\"text-align: right;\">\n",
              "      <th></th>\n",
              "      <th>title</th>\n",
              "      <th>text</th>\n",
              "      <th>subject</th>\n",
              "      <th>date</th>\n",
              "      <th>y</th>\n",
              "    </tr>\n",
              "  </thead>\n",
              "  <tbody>\n",
              "    <tr>\n",
              "      <th>0</th>\n",
              "      <td>As U.S. budget fight looms, Republicans flip t...</td>\n",
              "      <td>[washington, reuters, the, head, of, a, conser...</td>\n",
              "      <td>politicsNews</td>\n",
              "      <td>December 31, 2017</td>\n",
              "      <td>1</td>\n",
              "    </tr>\n",
              "    <tr>\n",
              "      <th>1</th>\n",
              "      <td>U.S. military to accept transgender recruits o...</td>\n",
              "      <td>[washington, reuters, transgender, people, wil...</td>\n",
              "      <td>politicsNews</td>\n",
              "      <td>December 29, 2017</td>\n",
              "      <td>1</td>\n",
              "    </tr>\n",
              "    <tr>\n",
              "      <th>2</th>\n",
              "      <td>Senior U.S. Republican senator: 'Let Mr. Muell...</td>\n",
              "      <td>[washington, reuters, the, special, counsel, i...</td>\n",
              "      <td>politicsNews</td>\n",
              "      <td>December 31, 2017</td>\n",
              "      <td>1</td>\n",
              "    </tr>\n",
              "    <tr>\n",
              "      <th>3</th>\n",
              "      <td>FBI Russia probe helped by Australian diplomat...</td>\n",
              "      <td>[washington, reuters, trump, campaign, adviser...</td>\n",
              "      <td>politicsNews</td>\n",
              "      <td>December 30, 2017</td>\n",
              "      <td>1</td>\n",
              "    </tr>\n",
              "    <tr>\n",
              "      <th>4</th>\n",
              "      <td>Trump wants Postal Service to charge 'much mor...</td>\n",
              "      <td>[reuters, president, donald, trump, called, on...</td>\n",
              "      <td>politicsNews</td>\n",
              "      <td>December 29, 2017</td>\n",
              "      <td>1</td>\n",
              "    </tr>\n",
              "    <tr>\n",
              "      <th>...</th>\n",
              "      <td>...</td>\n",
              "      <td>...</td>\n",
              "      <td>...</td>\n",
              "      <td>...</td>\n",
              "      <td>...</td>\n",
              "    </tr>\n",
              "    <tr>\n",
              "      <th>1995</th>\n",
              "      <td>GOP Rep. Wants A $30k A Year Housing Allowanc...</td>\n",
              "      <td>[not, long, ago, jason, chaffetz, said, that, ...</td>\n",
              "      <td>News</td>\n",
              "      <td>June 28, 2017</td>\n",
              "      <td>0</td>\n",
              "    </tr>\n",
              "    <tr>\n",
              "      <th>1996</th>\n",
              "      <td>Brace Yourself For 74 Percent Higher Health C...</td>\n",
              "      <td>[according, to, a, new, report, health, insura...</td>\n",
              "      <td>News</td>\n",
              "      <td>June 27, 2017</td>\n",
              "      <td>0</td>\n",
              "    </tr>\n",
              "    <tr>\n",
              "      <th>1997</th>\n",
              "      <td>Grandma Will Have To Pay More Than $20k A Yea...</td>\n",
              "      <td>[the, congressional, budget, office, released,...</td>\n",
              "      <td>News</td>\n",
              "      <td>June 27, 2017</td>\n",
              "      <td>0</td>\n",
              "    </tr>\n",
              "    <tr>\n",
              "      <th>1998</th>\n",
              "      <td>The Absolutely Cringeworthy Moment Trump Trie...</td>\n",
              "      <td>[donald, trump, was, in, a, room, full, of, ir...</td>\n",
              "      <td>News</td>\n",
              "      <td>June 27, 2017</td>\n",
              "      <td>0</td>\n",
              "    </tr>\n",
              "    <tr>\n",
              "      <th>1999</th>\n",
              "      <td>A Fed Up Reporter Just Stood Up To Sarah Huck...</td>\n",
              "      <td>[donald, trump, s, war, on, the, free, press, ...</td>\n",
              "      <td>News</td>\n",
              "      <td>June 27, 2017</td>\n",
              "      <td>0</td>\n",
              "    </tr>\n",
              "  </tbody>\n",
              "</table>\n",
              "<p>2000 rows × 5 columns</p>\n",
              "</div>"
            ],
            "text/plain": [
              "                                                  title  ...  y\n",
              "0     As U.S. budget fight looms, Republicans flip t...  ...  1\n",
              "1     U.S. military to accept transgender recruits o...  ...  1\n",
              "2     Senior U.S. Republican senator: 'Let Mr. Muell...  ...  1\n",
              "3     FBI Russia probe helped by Australian diplomat...  ...  1\n",
              "4     Trump wants Postal Service to charge 'much mor...  ...  1\n",
              "...                                                 ...  ... ..\n",
              "1995   GOP Rep. Wants A $30k A Year Housing Allowanc...  ...  0\n",
              "1996   Brace Yourself For 74 Percent Higher Health C...  ...  0\n",
              "1997   Grandma Will Have To Pay More Than $20k A Yea...  ...  0\n",
              "1998   The Absolutely Cringeworthy Moment Trump Trie...  ...  0\n",
              "1999   A Fed Up Reporter Just Stood Up To Sarah Huck...  ...  0\n",
              "\n",
              "[2000 rows x 5 columns]"
            ]
          },
          "metadata": {
            "tags": []
          },
          "execution_count": 53
        }
      ]
    },
    {
      "cell_type": "code",
      "metadata": {
        "id": "IFH8D3G4NVdj",
        "colab": {
          "base_uri": "https://localhost:8080/",
          "height": 454
        },
        "outputId": "4458f093-2e03-4638-d293-add3aa450724"
      },
      "source": [
        "train_dataset, other_datasets = train_test_split(dataset, train_size=0.4)\n",
        "valid_dataset, test_dataset = train_test_split(other_datasets, train_size=0.5)\n",
        "\n",
        "print(f\"dataset shape : train:{train_dataset.shape}, valid:{valid_dataset.shape}, test{test_dataset.shape}\")\n",
        "print(\"\\n Train dataset :\")\n",
        "train_dataset\n"
      ],
      "execution_count": 54,
      "outputs": [
        {
          "output_type": "stream",
          "text": [
            "dataset shape : train:(800, 5), valid:(600, 5), test(600, 5)\n",
            "\n",
            " Train dataset :\n"
          ],
          "name": "stdout"
        },
        {
          "output_type": "execute_result",
          "data": {
            "text/html": [
              "<div>\n",
              "<style scoped>\n",
              "    .dataframe tbody tr th:only-of-type {\n",
              "        vertical-align: middle;\n",
              "    }\n",
              "\n",
              "    .dataframe tbody tr th {\n",
              "        vertical-align: top;\n",
              "    }\n",
              "\n",
              "    .dataframe thead th {\n",
              "        text-align: right;\n",
              "    }\n",
              "</style>\n",
              "<table border=\"1\" class=\"dataframe\">\n",
              "  <thead>\n",
              "    <tr style=\"text-align: right;\">\n",
              "      <th></th>\n",
              "      <th>title</th>\n",
              "      <th>text</th>\n",
              "      <th>subject</th>\n",
              "      <th>date</th>\n",
              "      <th>y</th>\n",
              "    </tr>\n",
              "  </thead>\n",
              "  <tbody>\n",
              "    <tr>\n",
              "      <th>1711</th>\n",
              "      <td>It’s Not Over: Trump’s Tantrums Drive Senate ...</td>\n",
              "      <td>[trumpcare, failed, in, the, most, hilarious, ...</td>\n",
              "      <td>News</td>\n",
              "      <td>July 29, 2017</td>\n",
              "      <td>0</td>\n",
              "    </tr>\n",
              "    <tr>\n",
              "      <th>239</th>\n",
              "      <td>White House pressures Big Corn to meet on U.S....</td>\n",
              "      <td>[reuters, president, donald, trump, s, adminis...</td>\n",
              "      <td>politicsNews</td>\n",
              "      <td>December 8, 2017</td>\n",
              "      <td>1</td>\n",
              "    </tr>\n",
              "    <tr>\n",
              "      <th>779</th>\n",
              "      <td>Democrat Ralph Northam wins Virginia governor'...</td>\n",
              "      <td>[washington, reuters, democrat, ralph, northam...</td>\n",
              "      <td>politicsNews</td>\n",
              "      <td>November 8, 2017</td>\n",
              "      <td>1</td>\n",
              "    </tr>\n",
              "    <tr>\n",
              "      <th>58</th>\n",
              "      <td>Top Democrat says Trump firing of Mueller coul...</td>\n",
              "      <td>[washington, reuters, the, top, democrat, on, ...</td>\n",
              "      <td>politicsNews</td>\n",
              "      <td>December 20, 2017</td>\n",
              "      <td>1</td>\n",
              "    </tr>\n",
              "    <tr>\n",
              "      <th>669</th>\n",
              "      <td>Trump distances himself from remarks on Putin ...</td>\n",
              "      <td>[hanoi, reuters, president, donald, trump, on,...</td>\n",
              "      <td>politicsNews</td>\n",
              "      <td>November 12, 2017</td>\n",
              "      <td>1</td>\n",
              "    </tr>\n",
              "    <tr>\n",
              "      <th>...</th>\n",
              "      <td>...</td>\n",
              "      <td>...</td>\n",
              "      <td>...</td>\n",
              "      <td>...</td>\n",
              "      <td>...</td>\n",
              "    </tr>\n",
              "    <tr>\n",
              "      <th>1602</th>\n",
              "      <td>Trump Golfs While Threatening Nuclear War, Th...</td>\n",
              "      <td>[any, sane, person, would, think, that, after,...</td>\n",
              "      <td>News</td>\n",
              "      <td>August 9, 2017</td>\n",
              "      <td>0</td>\n",
              "    </tr>\n",
              "    <tr>\n",
              "      <th>1287</th>\n",
              "      <td>Obama’s Head Of Disaster Relief TRASHES Trump...</td>\n",
              "      <td>[it, s, no, secret, that, donald, trump, s, re...</td>\n",
              "      <td>News</td>\n",
              "      <td>September 30, 2017</td>\n",
              "      <td>0</td>\n",
              "    </tr>\n",
              "    <tr>\n",
              "      <th>587</th>\n",
              "      <td>U.S. nuclear general says would resist 'illega...</td>\n",
              "      <td>[washington, reuters, the, top, nuclear, comma...</td>\n",
              "      <td>politicsNews</td>\n",
              "      <td>November 18, 2017</td>\n",
              "      <td>1</td>\n",
              "    </tr>\n",
              "    <tr>\n",
              "      <th>1635</th>\n",
              "      <td>Breaking: MAJOR Action Taking Place At Trump ...</td>\n",
              "      <td>[by, now, everyone, knows, that, donald, trump...</td>\n",
              "      <td>News</td>\n",
              "      <td>August 8, 2017</td>\n",
              "      <td>0</td>\n",
              "    </tr>\n",
              "    <tr>\n",
              "      <th>615</th>\n",
              "      <td>Trump acknowledges thanks from UCLA players re...</td>\n",
              "      <td>[washington, reuters, president, donald, trump...</td>\n",
              "      <td>politicsNews</td>\n",
              "      <td>November 16, 2017</td>\n",
              "      <td>1</td>\n",
              "    </tr>\n",
              "  </tbody>\n",
              "</table>\n",
              "<p>800 rows × 5 columns</p>\n",
              "</div>"
            ],
            "text/plain": [
              "                                                  title  ...  y\n",
              "1711   It’s Not Over: Trump’s Tantrums Drive Senate ...  ...  0\n",
              "239   White House pressures Big Corn to meet on U.S....  ...  1\n",
              "779   Democrat Ralph Northam wins Virginia governor'...  ...  1\n",
              "58    Top Democrat says Trump firing of Mueller coul...  ...  1\n",
              "669   Trump distances himself from remarks on Putin ...  ...  1\n",
              "...                                                 ...  ... ..\n",
              "1602   Trump Golfs While Threatening Nuclear War, Th...  ...  0\n",
              "1287   Obama’s Head Of Disaster Relief TRASHES Trump...  ...  0\n",
              "587   U.S. nuclear general says would resist 'illega...  ...  1\n",
              "1635   Breaking: MAJOR Action Taking Place At Trump ...  ...  0\n",
              "615   Trump acknowledges thanks from UCLA players re...  ...  1\n",
              "\n",
              "[800 rows x 5 columns]"
            ]
          },
          "metadata": {
            "tags": []
          },
          "execution_count": 54
        }
      ]
    },
    {
      "cell_type": "code",
      "metadata": {
        "id": "gq6pQIbPNjQU"
      },
      "source": [
        ""
      ],
      "execution_count": null,
      "outputs": []
    },
    {
      "cell_type": "markdown",
      "metadata": {
        "id": "YyTLbmjF7M12"
      },
      "source": [
        "Analysis of the dataset. What kind of data is in your dataset ?\n",
        "Then you will process the data. Try to represent the data with Bag of Word\n",
        "Apply a standard (not deep learning) machine learning algorithm.\n",
        "Compute and analyze the performance."
      ]
    },
    {
      "cell_type": "code",
      "metadata": {
        "id": "8Vi4r5ir7UH-"
      },
      "source": [
        ""
      ],
      "execution_count": null,
      "outputs": []
    },
    {
      "cell_type": "markdown",
      "metadata": {
        "id": "FPpIeQT17Yr2"
      },
      "source": [
        "try to apply the same algorithm to a different dataset,\n",
        "use more complex representation of the data (Word2Vect, or anything else),\n",
        "try to improve or change the ML algorithm (for exemple try to use deepLearning),\n",
        "In each case, compare the performances obtained."
      ]
    },
    {
      "cell_type": "code",
      "metadata": {
        "id": "vpJPOzNZ7g8u"
      },
      "source": [
        ""
      ],
      "execution_count": null,
      "outputs": []
    },
    {
      "cell_type": "markdown",
      "metadata": {
        "id": "A7Z-L9ev7iNu"
      },
      "source": [
        "\n",
        "It is not expected that you try all of this, you are free to chose the representation of data that you want and the ML that you want. But be sure to understand what you are doing as you will need to present it.\n"
      ]
    }
  ]
}